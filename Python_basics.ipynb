{
 "cells": [
  {
   "cell_type": "markdown",
   "id": "2d8d16bb",
   "metadata": {},
   "source": [
    "# Phyton Einführung \n",
    "## Erste Anweisung \n",
    "dieser text ist *kursiv* oder **fett** oder ***fett und kursiv***\n",
    "- Punkt 1\n",
    "- Punkt 2\n",
    "- Punkt 3\n"
   ]
  },
  {
   "cell_type": "code",
   "execution_count": 2,
   "id": "ad46af3a",
   "metadata": {},
   "outputs": [
    {
     "name": "stdout",
     "output_type": "stream",
     "text": [
      "Hello World!\n"
     ]
    }
   ],
   "source": [
    "print (\"Hello World!\")\n"
   ]
  },
  {
   "cell_type": "code",
   "execution_count": 3,
   "id": "816a799c",
   "metadata": {},
   "outputs": [
    {
     "name": "stdout",
     "output_type": "stream",
     "text": [
      "something\n"
     ]
    }
   ],
   "source": [
    "#das ist ein Kommentar\n",
    "print (\"something\")"
   ]
  },
  {
   "cell_type": "code",
   "execution_count": 4,
   "id": "daf5aceb",
   "metadata": {},
   "outputs": [],
   "source": [
    "# Variablen und Wertzuweisungen\n",
    "name  = \"Lovelace\""
   ]
  },
  {
   "cell_type": "code",
   "execution_count": 5,
   "id": "093119ab",
   "metadata": {},
   "outputs": [
    {
     "name": "stdout",
     "output_type": "stream",
     "text": [
      "Lovelace\n"
     ]
    }
   ],
   "source": [
    "print (name)"
   ]
  },
  {
   "cell_type": "code",
   "execution_count": 6,
   "id": "c62b6237",
   "metadata": {},
   "outputs": [
    {
     "data": {
      "text/plain": [
       "'Lovelace'"
      ]
     },
     "execution_count": 6,
     "metadata": {},
     "output_type": "execute_result"
    }
   ],
   "source": [
    "name"
   ]
  },
  {
   "cell_type": "code",
   "execution_count": 7,
   "id": "e3089f6f",
   "metadata": {},
   "outputs": [
    {
     "name": "stdout",
     "output_type": "stream",
     "text": [
      "73\n"
     ]
    }
   ],
   "source": [
    "age = 73\n",
    "print (age\n",
    "    )"
   ]
  },
  {
   "cell_type": "code",
   "execution_count": 8,
   "id": "1f8e4e56",
   "metadata": {},
   "outputs": [
    {
     "name": "stdout",
     "output_type": "stream",
     "text": [
      "1.7123\n"
     ]
    }
   ],
   "source": [
    "size = (1.7123)\n",
    "print (size)\n"
   ]
  },
  {
   "cell_type": "code",
   "execution_count": 9,
   "id": "9ca4e05b",
   "metadata": {},
   "outputs": [
    {
     "name": "stdout",
     "output_type": "stream",
     "text": [
      "True\n"
     ]
    }
   ],
   "source": [
    "knows_math = True\n",
    "print (knows_math)\n"
   ]
  },
  {
   "cell_type": "code",
   "execution_count": 10,
   "id": "890ecb8b",
   "metadata": {},
   "outputs": [
    {
     "name": "stdout",
     "output_type": "stream",
     "text": [
      "False\n"
     ]
    }
   ],
   "source": [
    "likes_garding = False \n",
    "print(likes_garding)\n"
   ]
  },
  {
   "cell_type": "code",
   "execution_count": 11,
   "id": "30f54053",
   "metadata": {},
   "outputs": [
    {
     "data": {
      "text/plain": [
       "str"
      ]
     },
     "execution_count": 11,
     "metadata": {},
     "output_type": "execute_result"
    }
   ],
   "source": [
    "type (name)"
   ]
  },
  {
   "cell_type": "code",
   "execution_count": 15,
   "id": "97d9a02b",
   "metadata": {},
   "outputs": [
    {
     "data": {
      "text/plain": [
       "bool"
      ]
     },
     "execution_count": 15,
     "metadata": {},
     "output_type": "execute_result"
    }
   ],
   "source": [
    "type (likes_garding)\n",
    "\n"
   ]
  },
  {
   "cell_type": "code",
   "execution_count": 16,
   "id": "1daba943",
   "metadata": {},
   "outputs": [
    {
     "data": {
      "text/plain": [
       "float"
      ]
     },
     "execution_count": 16,
     "metadata": {},
     "output_type": "execute_result"
    }
   ],
   "source": [
    "type (size)"
   ]
  },
  {
   "cell_type": "code",
   "execution_count": 17,
   "id": "41901bf3",
   "metadata": {},
   "outputs": [
    {
     "name": "stdout",
     "output_type": "stream",
     "text": [
      "<class 'float'>\n",
      "<class 'bool'>\n"
     ]
    }
   ],
   "source": [
    "print (type(size))\n",
    "print (type(likes_garding))"
   ]
  },
  {
   "cell_type": "markdown",
   "id": "fb6ba914",
   "metadata": {},
   "source": [
    "**Operatoren**"
   ]
  },
  {
   "cell_type": "code",
   "execution_count": 18,
   "id": "848d297b",
   "metadata": {},
   "outputs": [
    {
     "data": {
      "text/plain": [
       "10"
      ]
     },
     "execution_count": 18,
     "metadata": {},
     "output_type": "execute_result"
    }
   ],
   "source": [
    "5+5"
   ]
  },
  {
   "cell_type": "code",
   "execution_count": 19,
   "id": "f7a48dc2",
   "metadata": {},
   "outputs": [
    {
     "data": {
      "text/plain": [
       "7300"
      ]
     },
     "execution_count": 19,
     "metadata": {},
     "output_type": "execute_result"
    }
   ],
   "source": [
    "age * 100"
   ]
  },
  {
   "cell_type": "code",
   "execution_count": 20,
   "id": "b3e3dd3c",
   "metadata": {},
   "outputs": [
    {
     "data": {
      "text/plain": [
       "'LovelaceLovelace'"
      ]
     },
     "execution_count": 20,
     "metadata": {},
     "output_type": "execute_result"
    }
   ],
   "source": [
    "name+name \n"
   ]
  },
  {
   "cell_type": "code",
   "execution_count": 21,
   "id": "3bbe8340",
   "metadata": {},
   "outputs": [
    {
     "data": {
      "text/plain": [
       "'LovelaceLovelaceLovelaceLovelaceLovelaceLovelaceLovelaceLovelaceLovelaceLovelaceLovelaceLovelaceLovelaceLovelaceLovelaceLovelaceLovelaceLovelaceLovelaceLovelaceLovelaceLovelaceLovelaceLovelaceLovelaceLovelaceLovelaceLovelaceLovelaceLovelaceLovelaceLovelaceLovelaceLovelaceLovelaceLovelaceLovelaceLovelaceLovelaceLovelaceLovelaceLovelaceLovelaceLovelaceLovelaceLovelaceLovelaceLovelaceLovelaceLovelace'"
      ]
     },
     "execution_count": 21,
     "metadata": {},
     "output_type": "execute_result"
    }
   ],
   "source": [
    "name *50"
   ]
  },
  {
   "cell_type": "code",
   "execution_count": 22,
   "id": "849c66cb",
   "metadata": {},
   "outputs": [
    {
     "ename": "TypeError",
     "evalue": "can only concatenate str (not \"int\") to str",
     "output_type": "error",
     "traceback": [
      "\u001b[1;31m---------------------------------------------------------------------------\u001b[0m",
      "\u001b[1;31mTypeError\u001b[0m                                 Traceback (most recent call last)",
      "\u001b[1;32m<ipython-input-22-eb654c50a077>\u001b[0m in \u001b[0;36m<module>\u001b[1;34m\u001b[0m\n\u001b[1;32m----> 1\u001b[1;33m \u001b[0mname\u001b[0m \u001b[1;33m+\u001b[0m \u001b[1;36m10\u001b[0m\u001b[1;33m\u001b[0m\u001b[1;33m\u001b[0m\u001b[0m\n\u001b[0m",
      "\u001b[1;31mTypeError\u001b[0m: can only concatenate str (not \"int\") to str"
     ]
    }
   ],
   "source": [
    "name + 10"
   ]
  },
  {
   "cell_type": "code",
   "execution_count": 23,
   "id": "66a1bdfe",
   "metadata": {},
   "outputs": [
    {
     "data": {
      "text/plain": [
       "'Lovelace10'"
      ]
     },
     "execution_count": 23,
     "metadata": {},
     "output_type": "execute_result"
    }
   ],
   "source": [
    "name + \"10\""
   ]
  },
  {
   "cell_type": "code",
   "execution_count": 24,
   "id": "700e813b",
   "metadata": {},
   "outputs": [
    {
     "data": {
      "text/plain": [
       "'Lovelace10'"
      ]
     },
     "execution_count": 24,
     "metadata": {},
     "output_type": "execute_result"
    }
   ],
   "source": [
    "name + str(10)"
   ]
  },
  {
   "cell_type": "code",
   "execution_count": 25,
   "id": "2352ac46",
   "metadata": {},
   "outputs": [
    {
     "data": {
      "text/plain": [
       "0.023456164383561642"
      ]
     },
     "execution_count": 25,
     "metadata": {},
     "output_type": "execute_result"
    }
   ],
   "source": [
    "size / age"
   ]
  },
  {
   "cell_type": "code",
   "execution_count": 26,
   "id": "6cbe6c51",
   "metadata": {},
   "outputs": [
    {
     "data": {
      "text/plain": [
       "10"
      ]
     },
     "execution_count": 26,
     "metadata": {},
     "output_type": "execute_result"
    }
   ],
   "source": [
    "int (\"10\")"
   ]
  },
  {
   "cell_type": "code",
   "execution_count": 27,
   "id": "40cce2a4",
   "metadata": {},
   "outputs": [
    {
     "ename": "ValueError",
     "evalue": "invalid literal for int() with base 10: 'zehn'",
     "output_type": "error",
     "traceback": [
      "\u001b[1;31m---------------------------------------------------------------------------\u001b[0m",
      "\u001b[1;31mValueError\u001b[0m                                Traceback (most recent call last)",
      "\u001b[1;32m<ipython-input-27-f0076bec59ed>\u001b[0m in \u001b[0;36m<module>\u001b[1;34m\u001b[0m\n\u001b[1;32m----> 1\u001b[1;33m \u001b[0mint\u001b[0m \u001b[1;33m(\u001b[0m\u001b[1;34m\"zehn\"\u001b[0m\u001b[1;33m)\u001b[0m\u001b[1;33m\u001b[0m\u001b[1;33m\u001b[0m\u001b[0m\n\u001b[0m",
      "\u001b[1;31mValueError\u001b[0m: invalid literal for int() with base 10: 'zehn'"
     ]
    }
   ],
   "source": [
    "int (\"zehn\")"
   ]
  },
  {
   "cell_type": "markdown",
   "id": "0b9c97c0",
   "metadata": {},
   "source": [
    "**Funktionen und Methoden"
   ]
  },
  {
   "cell_type": "code",
   "execution_count": 28,
   "id": "b103dd2a",
   "metadata": {},
   "outputs": [
    {
     "data": {
      "text/plain": [
       "'Lovelace'"
      ]
     },
     "execution_count": 28,
     "metadata": {},
     "output_type": "execute_result"
    }
   ],
   "source": [
    "name "
   ]
  },
  {
   "cell_type": "code",
   "execution_count": 29,
   "id": "f5df43d4",
   "metadata": {},
   "outputs": [
    {
     "data": {
      "text/plain": [
       "8"
      ]
     },
     "execution_count": 29,
     "metadata": {},
     "output_type": "execute_result"
    }
   ],
   "source": [
    "len (name)"
   ]
  },
  {
   "cell_type": "code",
   "execution_count": 30,
   "id": "14c8a092",
   "metadata": {},
   "outputs": [
    {
     "data": {
      "text/plain": [
       "'LOVELACE'"
      ]
     },
     "execution_count": 30,
     "metadata": {},
     "output_type": "execute_result"
    }
   ],
   "source": [
    "name.upper()"
   ]
  },
  {
   "cell_type": "code",
   "execution_count": 31,
   "id": "de0b013b",
   "metadata": {},
   "outputs": [
    {
     "data": {
      "text/plain": [
       "'lovelace'"
      ]
     },
     "execution_count": 31,
     "metadata": {},
     "output_type": "execute_result"
    }
   ],
   "source": [
    "name.lower ()"
   ]
  },
  {
   "cell_type": "code",
   "execution_count": 32,
   "id": "06861337",
   "metadata": {},
   "outputs": [
    {
     "ename": "AttributeError",
     "evalue": "'str' object has no attribute 'middle'",
     "output_type": "error",
     "traceback": [
      "\u001b[1;31m---------------------------------------------------------------------------\u001b[0m",
      "\u001b[1;31mAttributeError\u001b[0m                            Traceback (most recent call last)",
      "\u001b[1;32m<ipython-input-32-d2d849d2beea>\u001b[0m in \u001b[0;36m<module>\u001b[1;34m\u001b[0m\n\u001b[1;32m----> 1\u001b[1;33m \u001b[0mname\u001b[0m\u001b[1;33m.\u001b[0m\u001b[0mmiddle\u001b[0m\u001b[1;33m(\u001b[0m\u001b[1;33m)\u001b[0m\u001b[1;33m\u001b[0m\u001b[1;33m\u001b[0m\u001b[0m\n\u001b[0m",
      "\u001b[1;31mAttributeError\u001b[0m: 'str' object has no attribute 'middle'"
     ]
    }
   ],
   "source": [
    "name.middle()"
   ]
  },
  {
   "cell_type": "code",
   "execution_count": 33,
   "id": "87aac25f",
   "metadata": {},
   "outputs": [
    {
     "data": {
      "text/plain": [
       "'Lovelace'"
      ]
     },
     "execution_count": 33,
     "metadata": {},
     "output_type": "execute_result"
    }
   ],
   "source": [
    "name"
   ]
  },
  {
   "cell_type": "code",
   "execution_count": 34,
   "id": "b2feeacc",
   "metadata": {},
   "outputs": [],
   "source": [
    "name_up = name.upper()"
   ]
  },
  {
   "cell_type": "code",
   "execution_count": 35,
   "id": "4d52b60a",
   "metadata": {},
   "outputs": [
    {
     "data": {
      "text/plain": [
       "'LOVELACE'"
      ]
     },
     "execution_count": 35,
     "metadata": {},
     "output_type": "execute_result"
    }
   ],
   "source": [
    "name_up"
   ]
  },
  {
   "cell_type": "code",
   "execution_count": 36,
   "id": "a3881e31",
   "metadata": {},
   "outputs": [
    {
     "name": "stdout",
     "output_type": "stream",
     "text": [
      "LOVELACE\n"
     ]
    }
   ],
   "source": [
    "print (name_up)"
   ]
  },
  {
   "cell_type": "code",
   "execution_count": 37,
   "id": "e44f0a27",
   "metadata": {},
   "outputs": [
    {
     "ename": "TypeError",
     "evalue": "count() takes at least 1 argument (0 given)",
     "output_type": "error",
     "traceback": [
      "\u001b[1;31m---------------------------------------------------------------------------\u001b[0m",
      "\u001b[1;31mTypeError\u001b[0m                                 Traceback (most recent call last)",
      "\u001b[1;32m<ipython-input-37-7f62e0dbf86c>\u001b[0m in \u001b[0;36m<module>\u001b[1;34m\u001b[0m\n\u001b[1;32m----> 1\u001b[1;33m \u001b[0mname\u001b[0m\u001b[1;33m.\u001b[0m\u001b[0mcount\u001b[0m \u001b[1;33m(\u001b[0m\u001b[1;33m)\u001b[0m\u001b[1;33m\u001b[0m\u001b[1;33m\u001b[0m\u001b[0m\n\u001b[0m",
      "\u001b[1;31mTypeError\u001b[0m: count() takes at least 1 argument (0 given)"
     ]
    }
   ],
   "source": [
    "name.count ()"
   ]
  },
  {
   "cell_type": "code",
   "execution_count": 39,
   "id": "0020d364",
   "metadata": {},
   "outputs": [
    {
     "data": {
      "text/plain": [
       "2"
      ]
     },
     "execution_count": 39,
     "metadata": {},
     "output_type": "execute_result"
    }
   ],
   "source": [
    "name.count (\"e\")"
   ]
  },
  {
   "cell_type": "code",
   "execution_count": 43,
   "id": "3d4d80a2",
   "metadata": {},
   "outputs": [
    {
     "data": {
      "text/plain": [
       "'Love is everywhere'"
      ]
     },
     "execution_count": 43,
     "metadata": {},
     "output_type": "execute_result"
    }
   ],
   "source": [
    "name.replace (\"lace\", \" is everywhere\")"
   ]
  },
  {
   "cell_type": "markdown",
   "id": "9aa3da00",
   "metadata": {},
   "source": [
    "** Listen und Dictionaries\n"
   ]
  },
  {
   "cell_type": "code",
   "execution_count": 45,
   "id": "07f5eaee",
   "metadata": {},
   "outputs": [],
   "source": [
    "names = [\"Lovelace\", \"Darwin\" , \"Curie\" , \"Hawking\"]"
   ]
  },
  {
   "cell_type": "code",
   "execution_count": 46,
   "id": "96846ea9",
   "metadata": {},
   "outputs": [
    {
     "name": "stdout",
     "output_type": "stream",
     "text": [
      "['Lovelace', 'Darwin', 'Curie', 'Hawking']\n"
     ]
    }
   ],
   "source": [
    "print (names)\n"
   ]
  },
  {
   "cell_type": "code",
   "execution_count": 47,
   "id": "722487cb",
   "metadata": {},
   "outputs": [
    {
     "data": {
      "text/plain": [
       "list"
      ]
     },
     "execution_count": 47,
     "metadata": {},
     "output_type": "execute_result"
    }
   ],
   "source": [
    "type (names)"
   ]
  },
  {
   "cell_type": "code",
   "execution_count": 48,
   "id": "2f643684",
   "metadata": {},
   "outputs": [
    {
     "data": {
      "text/plain": [
       "'Curie'"
      ]
     },
     "execution_count": 48,
     "metadata": {},
     "output_type": "execute_result"
    }
   ],
   "source": [
    "names [2]"
   ]
  },
  {
   "cell_type": "code",
   "execution_count": 49,
   "id": "41eb8eb4",
   "metadata": {},
   "outputs": [],
   "source": [
    "number = [1, 2, 3, 4]"
   ]
  },
  {
   "cell_type": "code",
   "execution_count": 50,
   "id": "2b391c68",
   "metadata": {},
   "outputs": [
    {
     "name": "stdout",
     "output_type": "stream",
     "text": [
      "[1, 2, 3, 4]\n"
     ]
    }
   ],
   "source": [
    "print (number\n",
    "      )"
   ]
  },
  {
   "cell_type": "code",
   "execution_count": 51,
   "id": "c80f10bf",
   "metadata": {},
   "outputs": [
    {
     "ename": "TypeError",
     "evalue": "can only concatenate str (not \"list\") to str",
     "output_type": "error",
     "traceback": [
      "\u001b[1;31m---------------------------------------------------------------------------\u001b[0m",
      "\u001b[1;31mTypeError\u001b[0m                                 Traceback (most recent call last)",
      "\u001b[1;32m<ipython-input-51-4b11e9219d89>\u001b[0m in \u001b[0;36m<module>\u001b[1;34m\u001b[0m\n\u001b[1;32m----> 1\u001b[1;33m \u001b[0mname\u001b[0m \u001b[1;33m+\u001b[0m \u001b[0mnumber\u001b[0m\u001b[1;33m\u001b[0m\u001b[1;33m\u001b[0m\u001b[0m\n\u001b[0m",
      "\u001b[1;31mTypeError\u001b[0m: can only concatenate str (not \"list\") to str"
     ]
    }
   ],
   "source": [
    "name + number"
   ]
  },
  {
   "cell_type": "code",
   "execution_count": 52,
   "id": "9d8a3bc6",
   "metadata": {},
   "outputs": [
    {
     "data": {
      "text/plain": [
       "'Hawking'"
      ]
     },
     "execution_count": 52,
     "metadata": {},
     "output_type": "execute_result"
    }
   ],
   "source": [
    "names [-1\n",
    "      ]"
   ]
  },
  {
   "cell_type": "code",
   "execution_count": 53,
   "id": "8657e4aa",
   "metadata": {},
   "outputs": [
    {
     "data": {
      "text/plain": [
       "['Lovelace', 'Darwin']"
      ]
     },
     "execution_count": 53,
     "metadata": {},
     "output_type": "execute_result"
    }
   ],
   "source": [
    "names [0:2]"
   ]
  },
  {
   "cell_type": "code",
   "execution_count": 54,
   "id": "1bea26ef",
   "metadata": {},
   "outputs": [
    {
     "data": {
      "text/plain": [
       "['Curie', 'Hawking']"
      ]
     },
     "execution_count": 54,
     "metadata": {},
     "output_type": "execute_result"
    }
   ],
   "source": [
    "names [2:]"
   ]
  },
  {
   "cell_type": "code",
   "execution_count": 56,
   "id": "8a9396f0",
   "metadata": {},
   "outputs": [],
   "source": [
    "names =[\"Lovelace\", \"Darwin\" , \"Curie\" , [1,2,3]]"
   ]
  },
  {
   "cell_type": "code",
   "execution_count": 57,
   "id": "5af165b4",
   "metadata": {},
   "outputs": [
    {
     "data": {
      "text/plain": [
       "2"
      ]
     },
     "execution_count": 57,
     "metadata": {},
     "output_type": "execute_result"
    }
   ],
   "source": [
    "names [3][1]"
   ]
  },
  {
   "cell_type": "code",
   "execution_count": 58,
   "id": "54832758",
   "metadata": {},
   "outputs": [],
   "source": [
    "authores_and_birth_years = {\"Lovelace\":1882, \n",
    "                            \"Darwin\":1809, \n",
    "                            \"Noether\":1882,\n",
    "                           \"Hawking\":1942}"
   ]
  },
  {
   "cell_type": "code",
   "execution_count": 59,
   "id": "2e389626",
   "metadata": {},
   "outputs": [
    {
     "data": {
      "text/plain": [
       "1809"
      ]
     },
     "execution_count": 59,
     "metadata": {},
     "output_type": "execute_result"
    }
   ],
   "source": [
    "authores_and_birth_years [\"Darwin\"]"
   ]
  },
  {
   "cell_type": "code",
   "execution_count": 60,
   "id": "e5d749a9",
   "metadata": {},
   "outputs": [],
   "source": [
    "x ={name: number}"
   ]
  },
  {
   "cell_type": "code",
   "execution_count": 61,
   "id": "e49c8d49",
   "metadata": {},
   "outputs": [
    {
     "name": "stdout",
     "output_type": "stream",
     "text": [
      "{'Lovelace': [1, 2, 3, 4]}\n"
     ]
    }
   ],
   "source": [
    "print (x)"
   ]
  },
  {
   "cell_type": "markdown",
   "id": "f3b723c3",
   "metadata": {},
   "source": [
    "**for-Schleife"
   ]
  },
  {
   "cell_type": "code",
   "execution_count": 62,
   "id": "b7f2cbbc",
   "metadata": {},
   "outputs": [],
   "source": [
    "names = [\"Lovelace\", \"Darwin\" , \"Curie\" , \"Hawking\"]\n"
   ]
  },
  {
   "cell_type": "code",
   "execution_count": 63,
   "id": "73173170",
   "metadata": {},
   "outputs": [
    {
     "data": {
      "text/plain": [
       "['Lovelace', 'Darwin', 'Curie', 'Hawking']"
      ]
     },
     "execution_count": 63,
     "metadata": {},
     "output_type": "execute_result"
    }
   ],
   "source": [
    "names"
   ]
  },
  {
   "cell_type": "code",
   "execution_count": 65,
   "id": "85db522c",
   "metadata": {},
   "outputs": [
    {
     "name": "stdout",
     "output_type": "stream",
     "text": [
      "Lovelace did awesome stuff.\n",
      "Darwin did awesome stuff.\n",
      "Curie did awesome stuff.\n",
      "Hawking did awesome stuff.\n"
     ]
    }
   ],
   "source": [
    "for person in names: \n",
    "    print (person + \" did awesome stuff.\")"
   ]
  },
  {
   "cell_type": "code",
   "execution_count": 67,
   "id": "36e193fc",
   "metadata": {},
   "outputs": [
    {
     "name": "stdout",
     "output_type": "stream",
     "text": [
      "Lovelace did awesome stuff.\n",
      "Darwin did awesome stuff.\n",
      "Curie did awesome stuff.\n",
      "Hawking did awesome stuff.\n",
      "------------------\n"
     ]
    }
   ],
   "source": [
    "for person in names: \n",
    "    print (person + \" did awesome stuff.\")\n",
    "print (\"------------------\")"
   ]
  },
  {
   "cell_type": "code",
   "execution_count": 68,
   "id": "8c1771c0",
   "metadata": {},
   "outputs": [],
   "source": [
    "names = [\"Lovelace\", \"Darwin\" , \"Curie\" , \"Hawking\"]\n"
   ]
  },
  {
   "cell_type": "code",
   "execution_count": 69,
   "id": "73969b41",
   "metadata": {},
   "outputs": [],
   "source": [
    "names.append (\"Franklin\")"
   ]
  },
  {
   "cell_type": "code",
   "execution_count": 70,
   "id": "198c178f",
   "metadata": {},
   "outputs": [
    {
     "data": {
      "text/plain": [
       "['Lovelace', 'Darwin', 'Curie', 'Hawking', 'Franklin']"
      ]
     },
     "execution_count": 70,
     "metadata": {},
     "output_type": "execute_result"
    }
   ],
   "source": [
    "names"
   ]
  },
  {
   "cell_type": "code",
   "execution_count": 71,
   "id": "326f506b",
   "metadata": {},
   "outputs": [
    {
     "data": {
      "text/plain": [
       "'Franklin'"
      ]
     },
     "execution_count": 71,
     "metadata": {},
     "output_type": "execute_result"
    }
   ],
   "source": [
    "names.pop (4)"
   ]
  },
  {
   "cell_type": "code",
   "execution_count": 72,
   "id": "f9325158",
   "metadata": {},
   "outputs": [
    {
     "ename": "SyntaxError",
     "evalue": "invalid syntax (<ipython-input-72-f2c778ce0c79>, line 1)",
     "output_type": "error",
     "traceback": [
      "\u001b[1;36m  File \u001b[1;32m\"<ipython-input-72-f2c778ce0c79>\"\u001b[1;36m, line \u001b[1;32m1\u001b[0m\n\u001b[1;33m    names.insert ?\u001b[0m\n\u001b[1;37m                 ^\u001b[0m\n\u001b[1;31mSyntaxError\u001b[0m\u001b[1;31m:\u001b[0m invalid syntax\n"
     ]
    }
   ],
   "source": [
    "names.insert ?"
   ]
  },
  {
   "cell_type": "code",
   "execution_count": 73,
   "id": "e3736a31",
   "metadata": {},
   "outputs": [],
   "source": [
    "names.insert?"
   ]
  },
  {
   "cell_type": "code",
   "execution_count": 76,
   "id": "1dcd8dc6",
   "metadata": {},
   "outputs": [],
   "source": [
    "names.insert(1, \"Curie\")"
   ]
  },
  {
   "cell_type": "markdown",
   "id": "0652f9bd",
   "metadata": {},
   "source": []
  },
  {
   "cell_type": "code",
   "execution_count": 77,
   "id": "b9f07008",
   "metadata": {},
   "outputs": [
    {
     "data": {
      "text/plain": [
       "['Lovelace', 'Curie', 'Curie', 'Darwin', 'Curie', 'Hawking']"
      ]
     },
     "execution_count": 77,
     "metadata": {},
     "output_type": "execute_result"
    }
   ],
   "source": [
    "names"
   ]
  },
  {
   "cell_type": "code",
   "execution_count": 79,
   "id": "83f235e0",
   "metadata": {},
   "outputs": [
    {
     "data": {
      "text/plain": [
       "'Curie'"
      ]
     },
     "execution_count": 79,
     "metadata": {},
     "output_type": "execute_result"
    }
   ],
   "source": [
    "names.pop (1)"
   ]
  },
  {
   "cell_type": "code",
   "execution_count": 80,
   "id": "a83d4de8",
   "metadata": {},
   "outputs": [
    {
     "data": {
      "text/plain": [
       "['Lovelace', 'Curie', 'Darwin', 'Curie', 'Hawking']"
      ]
     },
     "execution_count": 80,
     "metadata": {},
     "output_type": "execute_result"
    }
   ],
   "source": [
    "names"
   ]
  },
  {
   "cell_type": "code",
   "execution_count": 81,
   "id": "f04cf4ad",
   "metadata": {},
   "outputs": [
    {
     "ename": "TypeError",
     "evalue": "pop expected at most 1 argument, got 2",
     "output_type": "error",
     "traceback": [
      "\u001b[1;31m---------------------------------------------------------------------------\u001b[0m",
      "\u001b[1;31mTypeError\u001b[0m                                 Traceback (most recent call last)",
      "\u001b[1;32m<ipython-input-81-666550f8d6aa>\u001b[0m in \u001b[0;36m<module>\u001b[1;34m\u001b[0m\n\u001b[1;32m----> 1\u001b[1;33m \u001b[0mnames\u001b[0m\u001b[1;33m.\u001b[0m\u001b[0mpop\u001b[0m \u001b[1;33m(\u001b[0m\u001b[1;34m\"1\"\u001b[0m\u001b[1;33m,\u001b[0m \u001b[1;34m\"4\"\u001b[0m\u001b[1;33m)\u001b[0m\u001b[1;33m\u001b[0m\u001b[1;33m\u001b[0m\u001b[0m\n\u001b[0m",
      "\u001b[1;31mTypeError\u001b[0m: pop expected at most 1 argument, got 2"
     ]
    }
   ],
   "source": [
    "names.pop (\"1\", \"4\")"
   ]
  },
  {
   "cell_type": "markdown",
   "id": "0ec2cecb",
   "metadata": {},
   "source": [
    "**Bedingte Anweisungen"
   ]
  },
  {
   "cell_type": "code",
   "execution_count": 86,
   "id": "152a4fa1",
   "metadata": {},
   "outputs": [
    {
     "name": "stdout",
     "output_type": "stream",
     "text": [
      "It's warm\n"
     ]
    }
   ],
   "source": [
    "temp = 20\n",
    "if temp > 15:\n",
    "    print (\"It's warm\")"
   ]
  },
  {
   "cell_type": "code",
   "execution_count": 84,
   "id": "7fe455c5",
   "metadata": {},
   "outputs": [
    {
     "data": {
      "text/plain": [
       "True"
      ]
     },
     "execution_count": 84,
     "metadata": {},
     "output_type": "execute_result"
    }
   ],
   "source": [
    "20 > 15 "
   ]
  },
  {
   "cell_type": "code",
   "execution_count": 85,
   "id": "4ee1f949",
   "metadata": {},
   "outputs": [
    {
     "data": {
      "text/plain": [
       "False"
      ]
     },
     "execution_count": 85,
     "metadata": {},
     "output_type": "execute_result"
    }
   ],
   "source": [
    "5 > 15 "
   ]
  },
  {
   "cell_type": "code",
   "execution_count": 89,
   "id": "b168ded2",
   "metadata": {},
   "outputs": [
    {
     "name": "stdout",
     "output_type": "stream",
     "text": [
      "It's cold\n"
     ]
    }
   ],
   "source": [
    "temp = 10 \n",
    "if temp > 15:\n",
    "    print (\"It's warm\")\n",
    "else:  print(\"It's cold\") "
   ]
  },
  {
   "cell_type": "code",
   "execution_count": 90,
   "id": "cd6e2aa8",
   "metadata": {},
   "outputs": [
    {
     "name": "stdout",
     "output_type": "stream",
     "text": [
      "It's warm\n"
     ]
    }
   ],
   "source": [
    "temp = 15 \n",
    "if temp >= 25:\n",
    "    print (\"It's hot\")\n",
    "elif temp >= 15:\n",
    "    print (\"It's warm\")\n",
    "else:\n",
    "    print (\"It's cold\")"
   ]
  },
  {
   "cell_type": "code",
   "execution_count": 91,
   "id": "dc28e592",
   "metadata": {},
   "outputs": [
    {
     "name": "stdout",
     "output_type": "stream",
     "text": [
      "C:\\Users\\p20r08432\n"
     ]
    }
   ],
   "source": [
    "import os\n",
    "print(os.path.abspath(os.getcwd()))\n",
    "\n"
   ]
  },
  {
   "cell_type": "code",
   "execution_count": 92,
   "id": "7cd43be8",
   "metadata": {},
   "outputs": [
    {
     "name": "stdout",
     "output_type": "stream",
     "text": [
      "Collecting pyppeteer\n",
      "  Downloading pyppeteer-0.2.5-py3-none-any.whl (87 kB)\n",
      "Requirement already satisfied: urllib3<2.0.0,>=1.25.8 in c:\\programdata\\anaconda3\\lib\\site-packages (from pyppeteer) (1.26.4)\n",
      "Collecting websockets<9.0,>=8.1\n",
      "  Downloading websockets-8.1-cp38-cp38-win_amd64.whl (66 kB)\n",
      "Collecting pyee<9.0.0,>=8.1.0\n",
      "  Downloading pyee-8.1.0-py2.py3-none-any.whl (12 kB)\n",
      "Requirement already satisfied: tqdm<5.0.0,>=4.42.1 in c:\\programdata\\anaconda3\\lib\\site-packages (from pyppeteer) (4.59.0)\n",
      "Requirement already satisfied: appdirs<2.0.0,>=1.4.3 in c:\\programdata\\anaconda3\\lib\\site-packages (from pyppeteer) (1.4.4)\n",
      "Installing collected packages: websockets, pyee, pyppeteer\n",
      "Successfully installed pyee-8.1.0 pyppeteer-0.2.5 websockets-8.1\n"
     ]
    }
   ],
   "source": [
    "! pip install pyppeteer"
   ]
  },
  {
   "cell_type": "code",
   "execution_count": null,
   "id": "0bd28770",
   "metadata": {},
   "outputs": [],
   "source": []
  }
 ],
 "metadata": {
  "kernelspec": {
   "display_name": "Python 3",
   "language": "python",
   "name": "python3"
  },
  "language_info": {
   "codemirror_mode": {
    "name": "ipython",
    "version": 3
   },
   "file_extension": ".py",
   "mimetype": "text/x-python",
   "name": "python",
   "nbconvert_exporter": "python",
   "pygments_lexer": "ipython3",
   "version": "3.8.8"
  }
 },
 "nbformat": 4,
 "nbformat_minor": 5
}
